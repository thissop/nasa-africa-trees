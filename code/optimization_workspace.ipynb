{
 "cells": [
  {
   "cell_type": "code",
   "execution_count": 20,
   "metadata": {},
   "outputs": [],
   "source": [
    "from shapely.geometry import Polygon \n",
    "import matplotlib.pyplot as plt\n",
    "import geopandas as gpd\n",
    "import numpy as np\n",
    "import seaborn as sns\n",
    "import warnings\n",
    "warnings.filterwarnings('ignore')\n",
    "\n",
    "sns.set_style('dark')\n",
    "sns.set_palette('deep')\n",
    "sns.set_context('notebook')\n",
    "plt.rcParams['font.family']='serif'"
   ]
  },
  {
   "cell_type": "markdown",
   "metadata": {},
   "source": [
    "### Check if you can scale without messing up centroids \n",
    "\n",
    "* This would let me only scale everything once "
   ]
  },
  {
   "cell_type": "code",
   "execution_count": 53,
   "metadata": {},
   "outputs": [
    {
     "data": {
      "text/plain": [
       "<AxesSubplot:>"
      ]
     },
     "execution_count": 53,
     "metadata": {},
     "output_type": "execute_result"
    },
    {
     "data": {
      "image/png": "[encoded data removed]",
      "text/plain": [
       "<Figure size 432x288 with 1 Axes>"
      ]
     },
     "metadata": {},
     "output_type": "display_data"
    }
   ],
   "source": [
    "fig, ax = plt.subplots()\n",
    "\n",
    "s1 = gpd.GeoSeries([Polygon([(0,0), (0.5,0), (0.5, 0.5), (0,0.5)]), Polygon([(3,-1), (4,0), ((3,1))]), Polygon([(-2,1), (3,2), (1,2)])])\n",
    "s1.plot(ax=ax, color='cornflowerblue', alpha=0.6)\n",
    "s2 = s1.scale(2,2,2, origin='centroid')\n",
    "s2.plot(ax=ax, color='grey', alpha=0.6)\n",
    "s2.centroid.plot(ax=ax, color='black', alpha=1)\n",
    "s1.centroid.plot(ax=ax, color='red', alpha=1)"
   ]
  }
 ],
 "metadata": {
  "kernelspec": {
   "display_name": "Python 3.7.13 ('trees')",
   "language": "python",
   "name": "python3"
  },
  "language_info": {
   "codemirror_mode": {
    "name": "ipython",
    "version": 3
   },
   "file_extension": ".py",
   "mimetype": "text/x-python",
   "name": "python",
   "nbconvert_exporter": "python",
   "pygments_lexer": "ipython3",
   "version": "3.7.13"
  },
  "orig_nbformat": 4,
  "vscode": {
   "interpreter": {
    "hash": "912ab30b71173f2a656fd25724eae9ade10b03e7b12814e2c23c2aa982cd5b3a"
   }
  }
 },
 "nbformat": 4,
 "nbformat_minor": 2
}
